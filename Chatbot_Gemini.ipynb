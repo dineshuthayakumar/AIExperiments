{
  "nbformat": 4,
  "nbformat_minor": 0,
  "metadata": {
    "colab": {
      "provenance": [],
      "authorship_tag": "ABX9TyPnzGsq+avd92lRoI1gx+t/",
      "include_colab_link": true
    },
    "kernelspec": {
      "name": "python3",
      "display_name": "Python 3"
    },
    "language_info": {
      "name": "python"
    }
  },
  "cells": [
    {
      "cell_type": "markdown",
      "metadata": {
        "id": "view-in-github",
        "colab_type": "text"
      },
      "source": [
        "<a href=\"https://colab.research.google.com/github/dineshuthayakumar/MitraAIBootCamp/blob/main/Chatbot_Gemini.ipynb\" target=\"_parent\"><img src=\"https://colab.research.google.com/assets/colab-badge.svg\" alt=\"Open In Colab\"/></a>"
      ]
    },
    {
      "cell_type": "code",
      "execution_count": 3,
      "metadata": {
        "colab": {
          "base_uri": "https://localhost:8080/"
        },
        "id": "YdO4dbBjXCcA",
        "outputId": "a9af12e6-fa8d-43b5-8eb7-9427f0d8639d"
      },
      "outputs": [
        {
          "output_type": "stream",
          "name": "stdout",
          "text": [
            "Yes, you can customize subitems in Boards, although the extent of customization depends on the specific platform you're using.  Since \"Boards\" is a general term, let's break it down by the most popular platforms and their capabilities:\n",
            "\n",
            "**1. monday.com:**\n",
            "\n",
            "*   **Highly Customizable:** monday.com is renowned for its flexibility. You can customize almost everything about subitems:\n",
            "    *   **Columns (Properties):** You can add custom columns to subitems to track specific information. These can be text columns, numbers, dropdowns, date columns, people columns, status columns, and more.\n",
            "    *   **Views:** You can create different views of your subitems, filtering and grouping them according to your needs. For example, you can have a view that shows subitems assigned to a specific person or those that are overdue.\n",
            "    *   **Automations:**  Automations are very powerful.  You can automate tasks related to subitems, such as creating subitems when a status changes, moving subitems between groups based on their status, or sending notifications when a subitem is due.\n",
            "    *   **Templates:** Create templates for frequently used subitem structures to save time and ensure consistency.\n",
            "    *   **Dependencies:**  You can set up dependencies between subitems (or between subitems and main items) to visualize and manage task dependencies.\n",
            "    *   **Apps & Integrations:** Connect to other apps and services to further extend the functionality of your subitems.\n",
            "\n",
            "**2. Asana:**\n",
            "\n",
            "*   **Subtasks with Fields:** Asana allows you to create subtasks within tasks. You can customize these subtasks by:\n",
            "    *   **Assignee:** Assign each subtask to a specific team member.\n",
            "    *   **Due Date:** Set a due date for each subtask.\n",
            "    *   **Description:** Provide a detailed description of the subtask.\n",
            "    *   **Custom Fields (Premium/Business):** If you have a premium or business plan, you can add custom fields to subtasks, which can be dropdowns, numbers, text fields, etc., to track specific data.\n",
            "    *   **Dependencies:**  Establish dependencies between subtasks.\n",
            "    *   **Rules (Automation):** You can automate some subtask processes with rules (e.g., automatically assign a subtask when its parent task is created).\n",
            "\n",
            "**3. Trello:**\n",
            "\n",
            "*   **Checklists within Cards:** Trello doesn't have \"subitems\" in the same way as monday.com or Asana. Instead, you use checklists within cards to represent subtasks.\n",
            "    *   **Checklist Items:** Each item in a checklist represents a subtask.\n",
            "    *   **Assignees (Power-Ups):**  Trello doesn't natively support assigning checklist items. You need to use a Power-Up (e.g., Card Checklist) to add this functionality.\n",
            "    *   **Due Dates (Power-Ups):** Similar to assignees, you need a Power-Up to add due dates to checklist items.\n",
            "    *   **Limited Customization:** Trello's customization for checklist items is more limited than monday.com or Asana.\n",
            "\n",
            "**4. Jira:**\n",
            "\n",
            "*   **Sub-tasks as Issue Types:** Jira allows you to create sub-tasks as a specific issue type.\n",
            "    *   **Custom Fields:** You can add custom fields to your sub-task issue type to track specific information.\n",
            "    *   **Workflows:** Sub-tasks can follow specific workflows, allowing you to manage their progress.\n",
            "    *   **Linking:**  Sub-tasks are linked to their parent issue.\n",
            "    *   **Transitions:** Sub-tasks can have different statuses and transitions.\n",
            "    *   **Reporting:** You can report on the status of sub-tasks.\n",
            "\n",
            "**In Summary:**\n",
            "\n",
            "*   The degree to which you can customize subitems depends on the platform you are using.\n",
            "*   monday.com offers the most comprehensive customization options.\n",
            "*   Asana offers good customization, especially with premium plans.\n",
            "*   Trello's customization is more limited and relies heavily on Power-Ups.\n",
            "*   Jira is very powerful and customizable but geared towards software development.\n",
            "\n",
            "To give you the best advice, please tell me:\n",
            "\n",
            "*   **Which \"Boards\" platform are you using?** (e.g., monday.com, Asana, Trello, Jira, something else)\n",
            "*   **What kind of customization are you hoping to achieve?** (e.g., adding custom fields, automating tasks, changing the layout)\n",
            "\n",
            "Once I have this information, I can give you more specific instructions.\n",
            "\n"
          ]
        }
      ],
      "source": [
        "from google import genai\n",
        "from google.colab import userdata\n",
        "from google.genai import types\n",
        "import requests\n",
        "import os\n",
        "from bs4 import BeautifulSoup\n",
        "\n",
        "# Configure Gemini API\n",
        "GEMINI_API_KEY = userdata.get(\"GeminiAPIKey\")\n",
        "\n",
        "# Simple function to scrape text from a URL\n",
        "def scrape_text(url):\n",
        "    response = requests.get(url)\n",
        "    soup = BeautifulSoup(response.text, 'html.parser')\n",
        "    return soup.get_text(separator=' ', strip=True)\n",
        "\n",
        "# Function leveraging Gemini Generative AI with RAG implementation\n",
        "def generate_response_from_url(prompt, url):\n",
        "    # Retrieve the content from the URL\n",
        "    webpage_content = scrape_text(url)\n",
        "\n",
        "    # Combine your prompt with the retrieved webpage content\n",
        "    combined_prompt = f\"\"\"\n",
        "    {prompt}\n",
        "\n",
        "    Context from URL:\n",
        "    {webpage_content}\n",
        "    \"\"\"\n",
        "\n",
        "    # Only run this block for Gemini Developer API\n",
        "    client = genai.Client(api_key=GEMINI_API_KEY, http_options=types.HttpOptions(api_version='v1alpha'))\n",
        "\n",
        "    # Generate the response\n",
        "    response = client.models.generate_content(model='gemini-2.0-flash-001', contents=prompt)\n",
        "\n",
        "    return response.text\n",
        "\n",
        "# Example usage\n",
        "if __name__ == \"__main__\":\n",
        "    test_url = 'https://community.kissflow.com/category/documentation-section'\n",
        "    user_prompt = 'Can I customise sub items in Boards?'\n",
        "\n",
        "    generated_text = generate_response_from_url(user_prompt, test_url)\n",
        "    print(generated_text)\n"
      ]
    }
  ]
}