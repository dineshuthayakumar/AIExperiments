{
  "nbformat": 4,
  "nbformat_minor": 0,
  "metadata": {
    "colab": {
      "provenance": [],
      "authorship_tag": "ABX9TyOqm4ONLSHVzYzgtZ5WhJdA",
      "include_colab_link": true
    },
    "kernelspec": {
      "name": "python3",
      "display_name": "Python 3"
    },
    "language_info": {
      "name": "python"
    }
  },
  "cells": [
    {
      "cell_type": "markdown",
      "metadata": {
        "id": "view-in-github",
        "colab_type": "text"
      },
      "source": [
        "<a href=\"https://colab.research.google.com/github/dineshuthayakumar/MitraAIBootCamp/blob/main/Chatbot_Gemini.ipynb\" target=\"_parent\"><img src=\"https://colab.research.google.com/assets/colab-badge.svg\" alt=\"Open In Colab\"/></a>"
      ]
    },
    {
      "cell_type": "code",
      "execution_count": 5,
      "metadata": {
        "colab": {
          "base_uri": "https://localhost:8080/"
        },
        "id": "YdO4dbBjXCcA",
        "outputId": "ce3a5ffb-7049-4058-9108-077caafc4f63"
      },
      "outputs": [
        {
          "output_type": "stream",
          "name": "stdout",
          "text": [
            "No, unfortunately, **you cannot add custom fields directly to subitems in Kissflow Boards**.  Kissflow Boards does not currently offer this functionality. Subitems inherit certain properties from the parent item, but they don't have the flexibility for unique, custom fields.\n",
            "\n",
            "Here's why and what you can do instead:\n",
            "\n",
            "* **Design Limitation:** Kissflow's current board structure primarily uses subitems for task breakdown and dependency management within a parent task. They are deliberately lightweight and not designed to hold extensive unique data.\n",
            "* **Focus on Parent Item:** The primary intent is to manage detailed information and custom data points within the parent item.\n",
            "\n",
            "**Workarounds and Alternatives:**\n",
            "\n",
            "1. **Use the Description Field:**  The description field within a subitem can be used to add *some* information.  This is a free-form text area, so it's not structured data.\n",
            "\n",
            "2. **Add Comments:** Similar to the description field, comments can provide extra context, but they aren't searchable or easily reported upon like a proper field.\n",
            "\n",
            "3. **Break into Separate Tasks:** If the information you want to store in the subitem's custom fields is *critical* and requires structured tracking, the best approach is usually to promote the subitem to a full-fledged task.  This will allow you to use all the custom fields you need.  This requires re-thinking how you organize your board.\n",
            "\n",
            "4. **Third-Party Integrations:** While not a direct solution, you might be able to use Kissflow's integration capabilities to link to external tools (like a spreadsheet or a dedicated task management tool). Store the extra data there, and link it back to the parent item or subitem in Kissflow.\n",
            "\n",
            "5. **Consider a Different Kissflow App:** If you require the full power of custom fields at every level, it might be worth considering building a custom application using Kissflow's platform.  This would give you granular control over data structure and fields, but it would be a more significant development effort.\n",
            "\n",
            "**In Summary:**\n",
            "\n",
            "Kissflow Boards, while powerful, has limitations regarding custom fields within subitems. The key is to understand this design and choose the workaround that best fits your needs, often involving either accepting limitations, restructuring tasks, or exploring integrations.  If highly structured data for subitems is essential, consider alternatives within Kissflow or external tools.\n",
            "\n"
          ]
        }
      ],
      "source": [
        "from google import genai\n",
        "from google.colab import userdata\n",
        "from google.genai import types\n",
        "import requests\n",
        "import os\n",
        "from bs4 import BeautifulSoup\n",
        "\n",
        "# Configure Gemini API\n",
        "GEMINI_API_KEY = userdata.get(\"GeminiAPIKey\")\n",
        "\n",
        "# Simple function to scrape text from a URL\n",
        "def scrape_text(url):\n",
        "    response = requests.get(url)\n",
        "    soup = BeautifulSoup(response.text, 'html.parser')\n",
        "    return soup.get_text(separator=' ', strip=True)\n",
        "\n",
        "# Function leveraging Gemini Generative AI with RAG implementation\n",
        "def generate_response_from_url(prompt, url):\n",
        "    # Retrieve the content from the URL\n",
        "    webpage_content = scrape_text(url)\n",
        "\n",
        "    # Combine your prompt with the retrieved webpage content\n",
        "    combined_prompt = f\"\"\"\n",
        "    {prompt}\n",
        "\n",
        "    Context from URL:\n",
        "    {webpage_content}\n",
        "    \"\"\"\n",
        "\n",
        "    # Only run this block for Gemini Developer API\n",
        "    client = genai.Client(api_key=GEMINI_API_KEY, http_options=types.HttpOptions(api_version='v1alpha'))\n",
        "\n",
        "    # Generate the response\n",
        "    response = client.models.generate_content(model='gemini-2.0-flash-001', contents=prompt)\n",
        "\n",
        "    return response.text\n",
        "\n",
        "# Example usage\n",
        "if __name__ == \"__main__\":\n",
        "    test_url = 'https://community.kissflow.com/category/documentation-section'\n",
        "    user_prompt = 'Can I add new fields to the sub items in Kissflow Boards?'\n",
        "\n",
        "    generated_text = generate_response_from_url(user_prompt, test_url)\n",
        "    print(generated_text)\n"
      ]
    }
  ]
}