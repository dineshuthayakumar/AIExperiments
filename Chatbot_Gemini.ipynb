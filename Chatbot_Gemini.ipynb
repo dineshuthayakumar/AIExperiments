{
  "nbformat": 4,
  "nbformat_minor": 0,
  "metadata": {
    "colab": {
      "provenance": [],
      "authorship_tag": "ABX9TyOemD7ye2usLt6+89QWgZWJ",
      "include_colab_link": true
    },
    "kernelspec": {
      "name": "python3",
      "display_name": "Python 3"
    },
    "language_info": {
      "name": "python"
    }
  },
  "cells": [
    {
      "cell_type": "markdown",
      "metadata": {
        "id": "view-in-github",
        "colab_type": "text"
      },
      "source": [
        "<a href=\"https://colab.research.google.com/github/dineshuthayakumar/MitraAIBootCamp/blob/main/Chatbot_Gemini.ipynb\" target=\"_parent\"><img src=\"https://colab.research.google.com/assets/colab-badge.svg\" alt=\"Open In Colab\"/></a>"
      ]
    },
    {
      "cell_type": "code",
      "execution_count": 6,
      "metadata": {
        "colab": {
          "base_uri": "https://localhost:8080/"
        },
        "id": "YdO4dbBjXCcA",
        "outputId": "1ff84dd4-2a7a-4c9c-c142-f2206c457b83"
      },
      "outputs": [
        {
          "output_type": "stream",
          "name": "stdout",
          "text": [
            "Based on the Kissflow documentation provided, the answer is not explicitly stated. However, we can infer some possibilities:\n",
            "\n",
            "*   **Boards Documentation:** There is a dedicated section for \"Boards\" which includes \"Using boards\", \"Managing boards\", \"Board views\", and \"Reports in Boards\". This suggests there are customization options available.\n",
            "*   **Forms & Expressions Documentation:** Another section dedicated to \"Forms & Expressions\", including sections on \"Forms\", \"Expressions\", \"Lists\", and importantly \"Fields\". Given the tight integration within Kissflow, it's likely there is a relationship between these elements and the board items. This suggest forms and fields could be used for item customization.\n",
            "*   **Apps Documentation:** Since you can build apps in Kissflow, it's highly probable that you can use the app building functionality to customize boards and their sub-items.\n",
            "*   **Lack of Direct Confirmation:** None of the provided documentation sections *directly* say \"You can add new fields to sub-items in Kissflow Boards\".\n",
            "\n",
            "**Recommendation:**\n",
            "\n",
            "1.  **Consult the \"Boards\" and \"Forms & Expressions\" sections in Kissflow documentation:** Start by exploring these sections for details on customizing board items and utilizing forms and fields.\n",
            "2.  **Experiment within Kissflow:** The best way to confirm is to try to add a new field to a sub-item within a Kissflow Board. The interface should guide you.\n",
            "3.  **Contact Kissflow Support:** If you are still unable to confirm or require assistance, reach out to Kissflow support directly. They can provide specific guidance and confirm whether this functionality is available and how to implement it.\n",
            "\n"
          ]
        }
      ],
      "source": [
        "from google import genai\n",
        "from google.colab import userdata\n",
        "from google.genai import types\n",
        "import requests\n",
        "import os\n",
        "from bs4 import BeautifulSoup\n",
        "\n",
        "# Configure Gemini API\n",
        "GEMINI_API_KEY = userdata.get(\"GeminiAPIKey\")\n",
        "\n",
        "# Simple function to scrape text from a URL\n",
        "def scrape_text(url):\n",
        "    response = requests.get(url)\n",
        "    soup = BeautifulSoup(response.text, 'html.parser')\n",
        "    return soup.get_text(separator=' ', strip=True)\n",
        "\n",
        "# Function leveraging Gemini Generative AI with RAG implementation\n",
        "def generate_response_from_url(prompt, url):\n",
        "    # Retrieve the content from the URL\n",
        "    webpage_content = scrape_text(url)\n",
        "\n",
        "    # Combine your prompt with the retrieved webpage content\n",
        "    combined_prompt = f\"\"\"\n",
        "    {prompt}\n",
        "\n",
        "    Context from URL:\n",
        "    {webpage_content}\n",
        "    \"\"\"\n",
        "\n",
        "    # Only run this block for Gemini Developer API\n",
        "    client = genai.Client(api_key=GEMINI_API_KEY, http_options=types.HttpOptions(api_version='v1alpha'))\n",
        "\n",
        "    # Generate the response\n",
        "    response = client.models.generate_content(model='gemini-2.0-flash-001', contents=[prompt, webpage_content])\n",
        "\n",
        "    return response.text\n",
        "\n",
        "# Example usage\n",
        "if __name__ == \"__main__\":\n",
        "    test_url = 'https://community.kissflow.com/category/documentation-section'\n",
        "    user_prompt = 'Can I add new fields to the sub items in Kissflow Boards?'\n",
        "\n",
        "    generated_text = generate_response_from_url(user_prompt, test_url)\n",
        "    print(generated_text)\n"
      ]
    }
  ]
}