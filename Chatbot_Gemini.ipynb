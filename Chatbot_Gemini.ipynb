{
  "nbformat": 4,
  "nbformat_minor": 0,
  "metadata": {
    "colab": {
      "provenance": [],
      "authorship_tag": "ABX9TyMuVx3hLSTmmiQlZ4Cm7ZVN",
      "include_colab_link": true
    },
    "kernelspec": {
      "name": "python3",
      "display_name": "Python 3"
    },
    "language_info": {
      "name": "python"
    }
  },
  "cells": [
    {
      "cell_type": "markdown",
      "metadata": {
        "id": "view-in-github",
        "colab_type": "text"
      },
      "source": [
        "<a href=\"https://colab.research.google.com/github/dineshuthayakumar/MitraAIBootCamp/blob/main/Chatbot_Gemini.ipynb\" target=\"_parent\"><img src=\"https://colab.research.google.com/assets/colab-badge.svg\" alt=\"Open In Colab\"/></a>"
      ]
    },
    {
      "cell_type": "code",
      "execution_count": 11,
      "metadata": {
        "colab": {
          "base_uri": "https://localhost:8080/"
        },
        "id": "YdO4dbBjXCcA",
        "outputId": "81dd29ef-7d52-4548-d6a6-01d4f7de8538"
      },
      "outputs": [
        {
          "output_type": "stream",
          "name": "stdout",
          "text": [
            "Unfortunately, the Kissflow community documentation doesn't explicitly state whether you can add custom fields directly to *sub-items* within Kissflow Boards. However, based on general knowledge and the capabilities of similar platforms, it's **likely possible, but with some caveats and limitations.**\n",
            "\n",
            "Here's a breakdown of why and what you should consider:\n",
            "\n",
            "**Why it's likely possible:**\n",
            "\n",
            "* **General Customization:** Kissflow is known for its customization capabilities. It allows you to define custom fields for the main items (cards) within a board.  Extending this functionality to sub-items would align with this general philosophy.\n",
            "* **Hierarchical Data Structures:** Often, platforms that support sub-items also allow for specific data attributes to be assigned to them.  This allows for more granular tracking and management of the sub-item tasks.\n",
            "* **Purpose of Sub-items:** Sub-items are usually used to break down larger tasks into smaller, more manageable components.  Each of these components might require its own set of specific data points.\n",
            "\n",
            "**Caveats and Limitations:**\n",
            "\n",
            "* **Plan Dependency:** The availability of custom fields on sub-items might depend on your Kissflow plan.  Higher-tier plans often unlock more advanced customization features.\n",
            "* **Direct vs. Indirect Approach:** There might not be a straightforward \"add custom field to sub-item\" button.  Instead, you might need to use a workaround or a specific feature designed for this purpose. This might involve:\n",
            "    * **Lookup Fields/Relationships:** Creating a separate form or list specifically for sub-items and then linking it to the main item using a lookup field.  This allows you to attach a sub-item \"record\" with its own custom fields to each main item.\n",
            "    * **Conditional Logic:**  Using conditional logic within the main item form to display or hide sub-item specific fields based on certain criteria.  This isn't ideal, but could work if the sub-item data is directly related to the parent item.\n",
            "* **Reporting Limitations:** How easily you can report on these sub-item custom fields might be limited.  Kissflow's reporting capabilities might not fully extend to deeply nested data.\n",
            "\n",
            "**How to Confirm (Recommended Steps):**\n",
            "\n",
            "1. **Directly Check Kissflow Boards:**  The best way to confirm is to log into your Kissflow account and navigate to the Boards section.  Try creating a board and adding a sub-item.  Look for options to customize the sub-item fields.  Check for buttons that says \"Add Field\" or similar.\n",
            "2. **Contact Kissflow Support:** This is the most reliable approach.  Reach out to Kissflow support (likely through their in-app help or website) and ask specifically if you can add custom fields to sub-items within Boards and how to do so.  They can also clarify any plan-specific limitations.\n",
            "3. **Explore Kissflow Forums:**  While the documentation is silent on this, it's possible other users have discussed this topic in the Kissflow community forums.  Search the forums using keywords like \"custom fields sub-items boards.\"\n",
            "\n",
            "**In summary, while it's highly *likely* that you can add some form of custom data to sub-items in Kissflow Boards, confirm the exact method and limitations with Kissflow support to ensure it meets your specific needs.**\n",
            "\n"
          ]
        }
      ],
      "source": [
        "from google import genai\n",
        "from google.colab import userdata\n",
        "from google.genai import types\n",
        "import requests\n",
        "import os\n",
        "from bs4 import BeautifulSoup\n",
        "\n",
        "# Configure Gemini API\n",
        "GEMINI_API_KEY = userdata.get(\"GeminiAPIKey\")\n",
        "\n",
        "# Simple function to scrape text from a URL\n",
        "def scrape_text(url):\n",
        "    response = requests.get(url)\n",
        "    soup = BeautifulSoup(response.text, 'html.parser')\n",
        "    return soup.get_text(separator=' ', strip=True)\n",
        "\n",
        "# Function leveraging Gemini Generative AI with RAG implementation\n",
        "def generate_response_from_url(prompt_and_urls):\n",
        "\n",
        "    client = genai.Client(api_key=GEMINI_API_KEY, http_options=types.HttpOptions(api_version='v1alpha'))\n",
        "    response = client.models.generate_content(model='gemini-2.0-flash-001', contents=prompt_and_urls)\n",
        "    return response.text\n",
        "\n",
        "# Example usage\n",
        "if __name__ == \"__main__\":\n",
        "  contents = [\n",
        "      'Can I add new fields to the sub items in Kissflow Boards?',\n",
        "      'https://community.kissflow.com/category/documentation-section',\n",
        "      'https://community.kissflow.com/category/boards',\n",
        "      'https://community.kissflow.com/category/using-boards',\n",
        "      'https://community.kissflow.com/category/managing-boards',\n",
        "      'https://community.kissflow.com/category/board-views',\n",
        "      'https://community.kissflow.com/category/board-metrics',\n",
        "      'https://community.kissflow.com/category/custom-reports-in-boards'\n",
        "  ]\n",
        "  generated_text = generate_response_from_url(contents)\n",
        "  print(generated_text)"
      ]
    }
  ]
}