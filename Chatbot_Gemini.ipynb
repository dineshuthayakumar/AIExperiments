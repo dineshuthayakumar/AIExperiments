{
  "nbformat": 4,
  "nbformat_minor": 0,
  "metadata": {
    "colab": {
      "provenance": [],
      "authorship_tag": "ABX9TyMylr/zQbIi1J8HTzX9Z0CO",
      "include_colab_link": true
    },
    "kernelspec": {
      "name": "python3",
      "display_name": "Python 3"
    },
    "language_info": {
      "name": "python"
    }
  },
  "cells": [
    {
      "cell_type": "markdown",
      "metadata": {
        "id": "view-in-github",
        "colab_type": "text"
      },
      "source": [
        "<a href=\"https://colab.research.google.com/github/dineshuthayakumar/MitraAIBootCamp/blob/main/Chatbot_Gemini.ipynb\" target=\"_parent\"><img src=\"https://colab.research.google.com/assets/colab-badge.svg\" alt=\"Open In Colab\"/></a>"
      ]
    },
    {
      "cell_type": "code",
      "execution_count": 12,
      "metadata": {
        "colab": {
          "base_uri": "https://localhost:8080/",
          "height": 211
        },
        "id": "YdO4dbBjXCcA",
        "outputId": "8c0798b6-a776-43ae-ad3f-f6ada27073d9"
      },
      "outputs": [
        {
          "output_type": "error",
          "ename": "NameError",
          "evalue": "name 'userdata' is not defined",
          "traceback": [
            "\u001b[0;31m---------------------------------------------------------------------------\u001b[0m",
            "\u001b[0;31mNameError\u001b[0m                                 Traceback (most recent call last)",
            "\u001b[0;32m<ipython-input-12-f42d354b151d>\u001b[0m in \u001b[0;36m<cell line: 0>\u001b[0;34m()\u001b[0m\n\u001b[1;32m      6\u001b[0m \u001b[0;34m\u001b[0m\u001b[0m\n\u001b[1;32m      7\u001b[0m \u001b[0;31m# Configure Gemini API\u001b[0m\u001b[0;34m\u001b[0m\u001b[0;34m\u001b[0m\u001b[0m\n\u001b[0;32m----> 8\u001b[0;31m \u001b[0mGEMINI_API_KEY\u001b[0m \u001b[0;34m=\u001b[0m \u001b[0muserdata\u001b[0m\u001b[0;34m.\u001b[0m\u001b[0mget\u001b[0m\u001b[0;34m(\u001b[0m\u001b[0;34m\"GeminiAPIKey\"\u001b[0m\u001b[0;34m)\u001b[0m\u001b[0;34m\u001b[0m\u001b[0;34m\u001b[0m\u001b[0m\n\u001b[0m\u001b[1;32m      9\u001b[0m \u001b[0;31m#genai.configure(api_key=GEMINI_API_KEY)\u001b[0m\u001b[0;34m\u001b[0m\u001b[0;34m\u001b[0m\u001b[0m\n\u001b[1;32m     10\u001b[0m \u001b[0;34m\u001b[0m\u001b[0m\n",
            "\u001b[0;31mNameError\u001b[0m: name 'userdata' is not defined"
          ]
        }
      ],
      "source": [
        "from google import genai\n",
        "from google.genai import types\n",
        "import requests\n",
        "import os\n",
        "from bs4 import BeautifulSoup\n",
        "\n",
        "# Configure Gemini API\n",
        "GEMINI_API_KEY = userdata.get(\"GeminiAPIKey\")\n",
        "#genai.configure(api_key=GEMINI_API_KEY)\n",
        "\n",
        "# Simple function to scrape text from a URL\n",
        "def scrape_text(url):\n",
        "    response = requests.get(url)\n",
        "    soup = BeautifulSoup(response.text, 'html.parser')\n",
        "    return soup.get_text(separator=' ', strip=True)\n",
        "\n",
        "# Function leveraging Gemini Generative AI with RAG implementation\n",
        "def generate_response_from_url(prompt, url):\n",
        "    # Retrieve the content from the URL\n",
        "    webpage_content = scrape_text(url)\n",
        "\n",
        "    # Combine your prompt with the retrieved webpage content\n",
        "    combined_prompt = f\"\"\"\n",
        "    {prompt}\n",
        "\n",
        "    Context from URL:\n",
        "    {webpage_content}\n",
        "    \"\"\"\n",
        "\n",
        "    # Only run this block for Gemini Developer API\n",
        "    client = genai.Client(api_key=GEMINI_API_KEY, http_options=types.HttpOptions(api_version='v1alpha'))\n",
        "\n",
        "    # Generate the response\n",
        "    response = client.models.generate_content(\n",
        "    model='gemini-2.0-flash-001', contents='Can I customise sub items in Kissflow Boards?')\n",
        "\n",
        "    return response.text\n",
        "\n",
        "# Example usage\n",
        "if __name__ == \"__main__\":\n",
        "    test_url = 'https://community.kissflow.com/category/documentation-section'\n",
        "    user_prompt = 'Can I customise sub items in Boards?'\n",
        "\n",
        "    generated_text = generate_response_from_url(user_prompt, test_url)\n",
        "    print(generated_text)\n"
      ]
    }
  ]
}