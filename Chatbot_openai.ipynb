{
  "nbformat": 4,
  "nbformat_minor": 0,
  "metadata": {
    "colab": {
      "provenance": [],
      "name": "enterprise_chatbot_openai.ipynb",
      "include_colab_link": true
    },
    "kernelspec": {
      "name": "python3",
      "display_name": "Python 3"
    },
    "language_info": {
      "name": "python"
    }
  },
  "cells": [
    {
      "cell_type": "markdown",
      "metadata": {
        "id": "view-in-github",
        "colab_type": "text"
      },
      "source": [
        "<a href=\"https://colab.research.google.com/github/dineshuthayakumar/AIExperiments/blob/main/Chatbot_openai.ipynb\" target=\"_parent\"><img src=\"https://colab.research.google.com/assets/colab-badge.svg\" alt=\"Open In Colab\"/></a>"
      ]
    },
    {
      "cell_type": "markdown",
      "source": [
        "# KF Bot: Simple Chatbot on Kissflow Low Code/No Code Application Development\n",
        "\n",
        "> Add blockquote\n",
        "\n",
        "\n",
        "\n",
        "We will scrape the web content as well as our PDFs to answer user queries more effectively.\n"
      ],
      "metadata": {
        "id": "pRWAG3m7djLw"
      }
    },
    {
      "cell_type": "code",
      "source": [
        "!pip install --upgrade --quiet  sentence-transformers gradio bs4 pypdf2 chromadb rapidocr-onnxruntime langchain langchain-community langchainhub langchain-openai langchain_huggingface"
      ],
      "metadata": {
        "id": "rF5nVjCXjRBC"
      },
      "execution_count": 9,
      "outputs": []
    },
    {
      "cell_type": "markdown",
      "source": [
        "## Step 1: Scraping our web content and using that as the foundation.\n"
      ],
      "metadata": {
        "id": "UuysOTGodhlm"
      }
    },
    {
      "cell_type": "code",
      "source": [
        "# Load, chunk and index the contents of a blog/website.\n",
        "from langchain_community.document_loaders import WebBaseLoader\n",
        "import bs4\n",
        "loader = WebBaseLoader(web_path=(\"https://community.kissflow.com/t/q6h9qlf/creating-and-managing-subitems\"))\n",
        "docs = loader.load()\n",
        "def format_docs(docs):\n",
        "    return \"\\n\\n\".join(doc.page_content for doc in docs)"
      ],
      "metadata": {
        "id": "rZF-S7oaePig"
      },
      "execution_count": 10,
      "outputs": []
    },
    {
      "cell_type": "code",
      "source": [
        "docs[0]"
      ],
      "metadata": {
        "colab": {
          "base_uri": "https://localhost:8080/"
        },
        "id": "9b9vwufkuVRw",
        "outputId": "65af50de-ac0a-4a44-efa2-512490f13184"
      },
      "execution_count": 11,
      "outputs": [
        {
          "output_type": "execute_result",
          "data": {
            "text/plain": [
              "Document(metadata={'source': 'https://community.kissflow.com/t/q6h9qlf/creating-and-managing-subitems', 'title': 'Creating and managing subitems - Using boards - Kissflow Community', 'description': 'Subitems help you break down complex tasks into multiple small tasks and track them efficiently.', 'language': 'en'}, page_content='\\n\\n\\nCreating and managing subitems - Using boards - Kissflow Community\\n\\n\\n\\n\\n\\n\\n\\n\\n\\n\\n\\n\\n\\n\\n\\n\\n\\n\\n\\nSkip to main content\\n\\n\\n\\n\\n\\n\\nCommunity\\n\\n\\n\\n\\nDeveloper Documentation\\nStatus\\n\\n\\nHow to enable Javascript\\n\\n\\n\\n\\n\\n\\n\\n\\n\\n\\nSign Up\\n\\n\\nLogin\\n\\n\\n\\n\\n\\n\\n\\n\\n\\n\\nWelcome to the Kissflow Community!\\n\\n\\n\\n\\n\\n\\n\\n\\nSearch for answers here or ask a question\\n\\n\\n\\n\\n\\n\\nProduct Documentation\\n\\n\\nðŸŽ¬ Getting started\\nðŸ“’ User guide\\nðŸ”Ž Quick references\\nðŸ’¼ Troubleshooting guide\\n\\n\\n\\nProduct Updates\\n\\n\\nPre-release notes\\nProduct announcements\\nTips and tricks\\n\\n\\nLatest Activity\\n\\n\\n\\n\\n\\n\\n\\n\\n\\n\\n\\n\\n\\n\\n\\n\\n\\n\\n\\nHome\\n\\n\\nProduct Documentation\\n\\n\\nðŸ“’ User guide\\n\\n\\nBoards\\n\\n\\nUsing boards\\n\\n\\n\\n\\n\\n\\n\\n\\n\\n\\n\\n\\n\\n 1\\n\\n\\n\\nCreating and managing subitems\\n\\n\\n\\n\\nDharsan V KKissflow\\nTechnical Writer\\nDharsan_V_K\\nupdated 5 mths ago\\n\\n\\n\\n\\n\\nOverview\\nSubitems help you break down complex tasks into multiple small tasks and track them efficiently. Like an item on a board, subitems have assignees, states, start dates, and due dates. Breaking down items into subitems helps you estimate the scope and duration of a task. This can significantly improve the turnaround time of tasks and ensure smoother completion.\\nCreating a subitem\\nTo create a subitem under an item,\\xa0\\n\\nOpen the item from the board and click Subitems\\xa0in the right navigation strip.\\nClick\\xa0+ Add subitem.\\nSpecify a title for the subitem.\\n\\nAlternatively, you can create subitems by pasting text inside an item. Copy text and click the\\xa0Paste subitems\\xa0button () inside the item to paste and create subitems. You can paste up to 20 subitems at a time. You can also use AI to quickly generate multiple subitems that are related to your main item.\\n\\nWhile creating a subitem, you can set its state, add an assignee, and set the start and due dates right from the item form. However, you can also configure this after you have created a subitem. Additionally, you can click the subitem to open the subitem form and add a description. Adding a description helps provide more context for other users.\\n\\xa0\\n\\n\\nNote:\\nYou can add only up to 50 subitems inside an item.\\n\\nTo rename a subitem, hover over it and click the\\xa0Edit title\\xa0button (). Alternatively, you can click the subitem and rename it in the form.\\nManaging a subitem\\nTo indicate the progress of a subitem, you can choose between the following states from the dropdown. By default, subitems will be in the\\xa0Not started\\xa0state.\\n\\nNot started\\nIn progress\\nOn hold\\nDone\\n\\nTo set an assignee for the subitem, click the\\xa0Set an assignee\\xa0button () and choose a user from the dropdown.\\xa0\\n\\nNote:\\nRestricted members can be added as an assignee for a subitem only if theyâ€™re the assignee of the item.\\n\\nTo set start and due dates for your subitem, click the\\xa0Set start and due dates\\xa0button () and select the dates.\\nTo copy the URL to a subitem, click the\\xa0More options\\xa0button () >\\xa0Copy URL. This can help you share or refer subitems to other users.\\nTo delete a subitem, click the\\xa0More options\\xa0button () >\\xa0Delete.\\nTo clone a subitem, click the\\xa0More options\\xa0button () >\\xa0Clone. The cloned subitem will inherit all the properties and information of the original subitem.\\nIf there are multiple subitems inside an item, you can reorder them by dragging and dropping into the desired positions.\\nAccessing a subitem\\nYou can access a subitem in the following ways.\\n\\nSearch\\xa0- Enter the name of the subitem you want to access.\\nExpand/collapse subitems\\xa0- This expands/collapses all the subitems in the board. Instead, if you want to access the subitems of a particular item, click the\\xa0Expand\\xa0button ().\\nFilter\\xa0- Enable\\xa0Apply filter to subitems. This shows all the subitems in the board. You can always apply more filters to access a specific subitem.  \\xa0\\n\\nConverting and moving a subitem\\nThere may be instances where a subitem needs to be worked on separately. In such cases, you can convert a subitem into an item. There may also be instances where scattered items can be brought under a common item. In these instances, you can convert items to subitems.\\nTo convert a subitem to an item, click the\\xa0More options\\xa0button () >\\xa0Convert to item. This will open up a small dialog box where you can map the title (mandatory) and description (optional) of the subitem to the respective fields in the board form. Once you have mapped the fields, click\\xa0Continue.\\n\\xa0\\n\\n\\xa0\\nTo convert an item to a subitem, open the item, click the\\xa0More options\\xa0button () located on the top right corner of the form, and click\\xa0Convert to subitem. This will open up a small dialog box where you can select the target item. After selecting the item, map the title and description fields and click\\xa0Continue.\\nIf you convert an item with subitems, both the item and its subitems become subitems of the selected item.\\n\\xa0\\n\\n\\xa0\\nYou can also move a subitem from one item to another. To do this, click the\\xa0More options\\xa0button () >\\xa0Move to other item\\xa0> select the target item.\\n\\xa0\\n\\n\\nNote:\\nIf the assignee of an item is a\\xa0restricted member, only items assigned to that restricted member will be listed when an admin or a member converts items to subitems, or moves subitems.\\xa0\\n\\n\\n\\n\\n\\nDocumentation\\nBoard\\n\\n\\nLike Follow 1\\n\\n\\n\\n\\n\\n\\n\\nLogin to view replies\\n\\n\\n\\n\\n\\n\\n\\n\\n\\nContent aside\\n\\n\\n\\nRelated Articles\\n\\n\\n\\nUse case for timeline layout\\n\\n\\n\\n\\nCreating and managing subitems\\n\\n\\n\\n\\nUsing board layouts\\n\\n\\n\\n\\nImporting items from a CSV file\\n\\n\\n\\n\\nExporting items from a board\\n\\n\\n\\n\\nWatching an item in a board\\n\\n\\n\\n\\nCreating and managing items\\n\\n\\n\\n\\nNotes, status logs, and activity logs in boards\\n\\n\\n\\n\\n\\n\\n\\n\\n\\n\\n\\n\\n\\n\\n\\n\\nLogin to reply\\n\\n\\n\\n\\n\\ncancel\\n\\n\\n      Mention someone by typing their name\\n    \\n\\n      No matching users\\n    \\n\\n\\n\\n\\n\\n\\n\\n\\n\\n\\n\\n\\n\\n\\n\\n\\n\\n\\n\\n\\n\\n\\n\\n\\nCommunity\\nDeveloper Documentation\\nStatus\\n\\nHome\\n\\n\\n\\n\\nProduct Documentation\\n\\n\\n\\n\\nðŸŽ¬ Getting started\\n\\n\\n\\n\\n\\nOnboarding guide\\n\\n\\n\\n\\n\\nDeveloper guide\\n\\n\\n\\n\\n\\nMobile guide\\n\\n\\n\\n\\n\\n\\nðŸ“’ User guide\\n\\n\\n\\n\\nAccount management\\n\\n\\n\\n\\nApps\\n\\n\\n\\n\\nPortal\\n\\n\\n\\n\\nProcesses\\n\\n\\n\\n\\nBoards\\n\\n\\n\\n\\nForms & Expressions\\n\\n\\n\\n\\nIntegrations\\n\\n\\n\\n\\nAnalytics\\n\\n\\n\\n\\nDecision tables\\n\\n\\n\\n\\nDatasets\\n\\n\\n\\n\\n\\n\\nðŸ”Ž Quick references\\n\\n\\n\\n\\n\\nDiscontinued services\\n\\n\\n\\n\\n\\nFrequently asked questions\\n\\n\\n\\n\\n\\nImportant information\\n\\n\\n\\n\\n\\nKissflow glossary\\n\\n\\n\\n\\n\\n\\nðŸ’¼ Troubleshooting guide\\n\\n\\n\\n\\n\\nTroubleshooting tips and tricks\\n\\n\\n\\n\\n\\n\\n\\n\\nProduct Updates\\n\\n\\n\\n\\n\\nPre-release notes\\n\\n\\n\\n\\n\\nProduct announcements\\n\\n\\n\\n\\n\\nTips and tricks\\n\\n\\n\\n\\n\\nView all topics\\n\\n\\n\\n\\n\\n\\n\\n\\n\\n\\n\\n \\n \\n\\n \\n\\n\\n\\n \\n\\n\\n\\n \\n\\n\\n\\n\\n\\n\\n\\n\\n\\n\\n\\n\\n\\n\\n\\n')"
            ]
          },
          "metadata": {},
          "execution_count": 11
        }
      ]
    },
    {
      "cell_type": "code",
      "source": [
        "# Split and manage the texts\n",
        "from langchain.text_splitter import RecursiveCharacterTextSplitter\n",
        "text_splitter = RecursiveCharacterTextSplitter(chunk_size=1000, chunk_overlap=200)\n",
        "splits = text_splitter.split_documents(docs)"
      ],
      "metadata": {
        "id": "xcdfiopLl658"
      },
      "execution_count": 12,
      "outputs": []
    },
    {
      "cell_type": "code",
      "source": [
        "# Store embeddings in a Vector DB\n",
        "from langchain_community.vectorstores import Chroma\n",
        "from langchain_huggingface import HuggingFaceEmbeddings\n",
        "embeddings = HuggingFaceEmbeddings(\n",
        "    model_name=\"sentence-transformers/all-mpnet-base-v2\",\n",
        "    model_kwargs={\"device\": \"cpu\"}\n",
        ")\n",
        "vectorstore_web = Chroma.from_documents(documents=splits, embedding=embeddings)\n",
        "retriever_web = vectorstore_web.as_retriever()"
      ],
      "metadata": {
        "id": "oHyeVCCXmFgs"
      },
      "execution_count": 13,
      "outputs": []
    },
    {
      "cell_type": "code",
      "source": [
        "from google.colab import userdata\n",
        "import os\n",
        "\n",
        "# If you haven't already installed \"openai\" in your Colab environment, make sure to:\n",
        "# !pip install openai\n",
        "\n",
        "# From LangChain, import the OpenAI LLM\n",
        "from langchain.chat_models import ChatOpenAI\n",
        "\n",
        "# Replace this with your actual environment variable (if stored in colab form fields, etc.)\n",
        "os.environ[\"OPENAI_API_KEY\"] = userdata.get(\"OpenAPIKey\")\n",
        "\n",
        "# Instantiate the OpenAI LLM (adjust model name if desired, e.g. \"gpt-4\" or \"gpt-3.5-turbo\")\n",
        "llm = ChatOpenAI(model_name=\"gpt-4\")\n",
        "\n",
        "# Pull in the prompt from your prompt hub\n",
        "from langchain import hub\n",
        "prompt = hub.pull(\"rlm/rag-prompt\")\n",
        "\n",
        "# From your LangChain Core imports\n",
        "from langchain_core.output_parsers import StrOutputParser\n",
        "from langchain_core.runnables import RunnablePassthrough\n",
        "\n",
        "# Create your pipeline using OpenAI as the LLM\n",
        "rag_web = (\n",
        "    {\"context\": retriever_web | format_docs, \"question\": RunnablePassthrough()}\n",
        "    | prompt\n",
        "    | llm\n",
        "    | StrOutputParser()\n",
        ")\n",
        "rag_web.invoke(\"Can I add 200 sub items within a Kissflow Board item?\")"
      ],
      "metadata": {
        "colab": {
          "base_uri": "https://localhost:8080/",
          "height": 70
        },
        "id": "QVKDdFxjW9ZJ",
        "outputId": "080e7947-d45c-4180-de35-e8c23800ebbe"
      },
      "execution_count": 14,
      "outputs": [
        {
          "output_type": "stream",
          "name": "stderr",
          "text": [
            "/usr/local/lib/python3.11/dist-packages/langsmith/client.py:277: LangSmithMissingAPIKeyWarning: API key must be provided when using hosted LangSmith API\n",
            "  warnings.warn(\n"
          ]
        },
        {
          "output_type": "execute_result",
          "data": {
            "text/plain": [
              "'No, you cannot add 200 sub items within a Kissflow Board item. The maximum number of subitems you can add inside an item is 50.'"
            ],
            "application/vnd.google.colaboratory.intrinsic+json": {
              "type": "string"
            }
          },
          "metadata": {},
          "execution_count": 14
        }
      ]
    }
  ]
}